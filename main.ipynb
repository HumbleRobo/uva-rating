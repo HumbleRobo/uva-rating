{
 "cells": [
  {
   "cell_type": "markdown",
   "id": "27a4fc9f",
   "metadata": {},
   "source": [
    "# Get Data"
   ]
  },
  {
   "cell_type": "code",
   "execution_count": null,
   "id": "2f880740",
   "metadata": {},
   "outputs": [
    {
     "name": "stdout",
     "output_type": "stream",
     "text": [
      "   pid  num                   title    dacu  mrun        mmem  nover  sube  \\\n",
      "0   36  100      The 3n + 1 problem  107131     0  1000000000      0  6949   \n",
      "1   37  101      The Blocks Problem   17824     0  1000000000      0   933   \n",
      "2   38  102  Ecological Bin Packing   28290     0  1000000000      0  1972   \n",
      "3   39  103          Stacking Boxes    7583     0  1000000000      0     0   \n",
      "4   40  104               Arbitrage    4880     0  1000000000      0   310   \n",
      "\n",
      "   noj  inq  ...     re  ole    tle   mle      wa    pe      ac   rtl  status  \\\n",
      "0    0    0  ...  98633  381  77349  5209  357068  6479  250834  3000       1   \n",
      "1    0    0  ...  25531   24  12957   200   29158  8389   32595  3000       1   \n",
      "2    0    0  ...   5793   33   3870    72   40418   764   43789  3000       1   \n",
      "3    0    0  ...   6706    2   2657     0   12631     0   12355  3000       2   \n",
      "4    0    0  ...   2929   16   4147   427   14083   593    8519  3000       2   \n",
      "\n",
      "   rej  \n",
      "0    0  \n",
      "1    0  \n",
      "2    0  \n",
      "3    0  \n",
      "4    0  \n",
      "\n",
      "[5 rows x 22 columns]\n"
     ]
    }
   ],
   "source": [
    "import requests\n",
    "import json\n",
    "import pandas as pd\n",
    "\n",
    "class UhuntAPI:\n",
    "    def __init__(self):\n",
    "        self.base_url = 'https://uhunt.onlinejudge.org/api'\n",
    "        self.session = requests.Session()\n",
    "        self.session.headers.update({'User-Agent': 'Mozilla/5.0'})\n",
    "    \n",
    "    def get_problems(self):\n",
    "        path = '/p'\n",
    "        url = f'{self.base_url}{path}'\n",
    "        response = self.session.get(url)\n",
    "        if response.status_code == 200:\n",
    "            data = response.json()\n",
    "            columns = ['pid', 'num', 'title', 'dacu', 'mrun', 'mmem', 'nover', 'sube', 'noj', 'inq', 'ce', 'rf', 're', 'ole', 'tle', 'mle', 'wa', 'pe', 'ac', 'rtl', 'status', 'rej']\n",
    "            return pd.DataFrame(data, columns=columns)\n",
    "        else:\n",
    "            raise Exception(f\"Failed to fetch problems: {response.status_code}\")\n",
    "\n",
    "if __name__ == '__main__':\n",
    "    api = UhuntAPI()\n",
    "    try:\n",
    "        problems_df = api.get_problems()\n",
    "    except Exception as e:\n",
    "        print(e)"
   ]
  }
 ],
 "metadata": {
  "kernelspec": {
   "display_name": "Python 3",
   "language": "python",
   "name": "python3"
  },
  "language_info": {
   "codemirror_mode": {
    "name": "ipython",
    "version": 3
   },
   "file_extension": ".py",
   "mimetype": "text/x-python",
   "name": "python",
   "nbconvert_exporter": "python",
   "pygments_lexer": "ipython3",
   "version": "3.11.2"
  }
 },
 "nbformat": 4,
 "nbformat_minor": 5
}
