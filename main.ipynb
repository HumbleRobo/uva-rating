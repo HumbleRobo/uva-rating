{
 "cells": [
  {
   "cell_type": "markdown",
   "id": "17f631d7",
   "metadata": {},
   "source": [
    "# Use Uhunt API"
   ]
  },
  {
   "cell_type": "code",
   "execution_count": 10,
   "id": "5cf0c92a",
   "metadata": {},
   "outputs": [],
   "source": [
    "import requests\n",
    "import json\n",
    "import pandas as pd\n",
    "\n",
    "class UhuntAPI:\n",
    "    def __init__(self):\n",
    "        self.base_url = 'https://uhunt.onlinejudge.org/api'\n",
    "        self.session = requests.Session()\n",
    "        self.session.headers.update({'User-Agent': 'Mozilla/5.0'})\n",
    "    \n",
    "    def get_problems(self):\n",
    "        path = '/p'\n",
    "        url = f'{self.base_url}{path}'\n",
    "        response = self.session.get(url)\n",
    "        if response.status_code == 200:\n",
    "            data = response.json()\n",
    "            columns = ['pid', 'num', 'title', 'dacu', 'mrun', 'mmem', 'nover', 'sube', 'noj', 'inq', 'ce', 'rf', 're', 'ole', 'tle', 'mle', 'wa', 'pe', 'ac', 'rtl', 'status', 'rej']\n",
    "            return pd.DataFrame(data, columns=columns)\n",
    "        else:\n",
    "            raise Exception(f\"Failed to fetch problems: {response.status_code}\")\n",
    "\n",
    "    def get_problem_submissions(self, pid, start_sbt=0, end_sbt=2147483647):\n",
    "        path = f'/p/subs/{pid}/{start_sbt}/{end_sbt}'\n",
    "        url = f'{self.base_url}{path}'\n",
    "        response = self.session.get(url)\n",
    "        if response.status_code == 200:\n",
    "            data = response.json()\n",
    "            columns = ['sid', 'uid', 'pid', 'ver', 'lan', 'run', 'mem', 'rank', 'sbt', 'name', 'uname']\n",
    "            return pd.DataFrame(data, columns=columns)\n",
    "        else:\n",
    "            raise Exception(f\"Failed to fetch submissions for problem {pid}: {response.status_code}\")\n"
   ]
  },
  {
   "cell_type": "markdown",
   "id": "27a4fc9f",
   "metadata": {},
   "source": [
    "# Get Data"
   ]
  },
  {
   "cell_type": "code",
   "execution_count": null,
   "id": "2f880740",
   "metadata": {},
   "outputs": [
    {
     "name": "stdout",
     "output_type": "stream",
     "text": [
      "[Errno 22] Invalid argument: 'submissions\\\\127 \"Accordian\" Patience.csv'\n"
     ]
    }
   ],
   "source": [
    "import os\n",
    "\n",
    "if __name__ == '__main__':\n",
    "    try:\n",
    "        api = UhuntAPI()\n",
    "        problems_df = api.get_problems()\n",
    "        submissions_dir = 'submissions'\n",
    "        if not os.path.exists(submissions_dir):\n",
    "            os.makedirs(submissions_dir)\n",
    "        for index, row in problems_df.iterrows():\n",
    "            path = os.path.join(submissions_dir, f'{row[\"num\"]}.csv')\n",
    "            if os.path.exists(path):\n",
    "                prev_submissions_df = pd.read_csv(path)\n",
    "                last_submission_time = prev_submissions_df['sbt'].max()\n",
    "                submissions_df = api.get_problem_submissions(row['pid'], last_submission_time + 1)\n",
    "                submissions_df = pd.concat([prev_submissions_df, submissions_df], ignore_index=True)\n",
    "                submissions_df.drop_duplicates(subset=['sid'], keep='last', inplace=True)\n",
    "            else:\n",
    "                submissions_df = api.get_problem_submissions(row['pid'])\n",
    "            submissions_df.to_csv(path, index=False)\n",
    "    except Exception as e:\n",
    "        print(e)"
   ]
  }
 ],
 "metadata": {
  "kernelspec": {
   "display_name": "Python 3",
   "language": "python",
   "name": "python3"
  },
  "language_info": {
   "codemirror_mode": {
    "name": "ipython",
    "version": 3
   },
   "file_extension": ".py",
   "mimetype": "text/x-python",
   "name": "python",
   "nbconvert_exporter": "python",
   "pygments_lexer": "ipython3",
   "version": "3.11.2"
  }
 },
 "nbformat": 4,
 "nbformat_minor": 5
}
