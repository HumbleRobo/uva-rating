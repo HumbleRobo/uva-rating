{
 "cells": [
  {
   "cell_type": "markdown",
   "id": "17f631d7",
   "metadata": {},
   "source": [
    "# Use Uhunt API"
   ]
  },
  {
   "cell_type": "code",
   "execution_count": 1,
   "id": "5cf0c92a",
   "metadata": {},
   "outputs": [],
   "source": [
    "import requests\n",
    "import json\n",
    "import pandas as pd\n",
    "\n",
    "class UhuntAPI:\n",
    "    def __init__(self):\n",
    "        self.base_url = 'https://uhunt.onlinejudge.org/api'\n",
    "        self.session = requests.Session()\n",
    "        self.session.headers.update({'User-Agent': 'Mozilla/5.0'})\n",
    "    \n",
    "    def get_problems(self):\n",
    "        path = '/p'\n",
    "        url = f'{self.base_url}{path}'\n",
    "        response = self.session.get(url)\n",
    "        if response.status_code == 200:\n",
    "            data = response.json()\n",
    "            columns = ['pid', 'num', 'title', 'dacu', 'mrun', 'mmem', 'nover', 'sube', 'noj', 'inq', 'ce', 'rf', 're', 'ole', 'tle', 'mle', 'wa', 'pe', 'ac', 'rtl', 'status', 'rej']\n",
    "            return pd.DataFrame(data, columns=columns)\n",
    "        else:\n",
    "            raise Exception(f\"Failed to fetch problems: {response.status_code}\")\n",
    "\n",
    "    def get_problem_submissions(self, pid, start_sbt=0, end_sbt=2147483647):\n",
    "        path = f'/p/subs/{pid}/{start_sbt}/{end_sbt}'\n",
    "        url = f'{self.base_url}{path}'\n",
    "        response = self.session.get(url)\n",
    "        if response.status_code == 200:\n",
    "            data = response.json()\n",
    "            columns = ['sid', 'uid', 'pid', 'ver', 'lan', 'run', 'mem', 'rank', 'sbt', 'name', 'uname']\n",
    "            return pd.DataFrame(data, columns=columns)\n",
    "        else:\n",
    "            raise Exception(f\"Failed to fetch submissions for problem {pid}: {response.status_code}\")\n"
   ]
  },
  {
   "cell_type": "markdown",
   "id": "27a4fc9f",
   "metadata": {},
   "source": [
    "# Get Submission Data"
   ]
  },
  {
   "cell_type": "code",
   "execution_count": null,
   "id": "2f880740",
   "metadata": {},
   "outputs": [],
   "source": [
    "import os\n",
    "\n",
    "try:\n",
    "    api = UhuntAPI()\n",
    "    problems_df = api.get_problems()\n",
    "    submissions_dir = 'submissions'\n",
    "    if not os.path.exists(submissions_dir):\n",
    "        os.makedirs(submissions_dir)\n",
    "    for index, row in problems_df.iterrows():\n",
    "        path = os.path.join(submissions_dir, f'{row[\"num\"]}.csv')\n",
    "        if os.path.exists(path):\n",
    "            prev_submissions_df = pd.read_csv(path)\n",
    "            last_submission_time = prev_submissions_df['sbt'].max()\n",
    "            submissions_df = api.get_problem_submissions(row['pid'], last_submission_time + 1)\n",
    "            submissions_df = pd.concat([prev_submissions_df, submissions_df], ignore_index=True)\n",
    "            submissions_df.drop_duplicates(subset=['sid'], keep='last', inplace=True)\n",
    "        else:\n",
    "            submissions_df = api.get_problem_submissions(row['pid'])\n",
    "        submissions_df.to_csv(path, index=False)\n",
    "except Exception as e:\n",
    "    print(e)"
   ]
  },
  {
   "cell_type": "markdown",
   "id": "60ff53b4",
   "metadata": {},
   "source": [
    "# Concatenate all submissions into a single CSV file"
   ]
  },
  {
   "cell_type": "code",
   "execution_count": null,
   "id": "b2c0d080",
   "metadata": {},
   "outputs": [],
   "source": [
    "import os\n",
    "import pandas as pd\n",
    "\n",
    "try:\n",
    "    submissions_dir = 'submissions'\n",
    "    all_submissions = []\n",
    "    for filename in os.listdir(submissions_dir):\n",
    "        if filename.endswith('.csv'):\n",
    "            path = os.path.join(submissions_dir, filename)\n",
    "            df = pd.read_csv(path)\n",
    "            all_submissions.append(df)\n",
    "    all_submissions_df = pd.concat(all_submissions, ignore_index=True)\n",
    "    all_submissions_df.drop_duplicates(subset=['sid'], keep='last', inplace=True)\n",
    "    all_submissions_df.sort_values(by=['sid'], ascending=True, inplace=True)\n",
    "    all_submissions_df.to_csv('all_submissions.csv', index=False)\n",
    "except Exception as e:\n",
    "    print(e)"
   ]
  },
  {
   "cell_type": "markdown",
   "id": "d3236cbb",
   "metadata": {},
   "source": [
    "# Get previous attempt count for each submission"
   ]
  },
  {
   "cell_type": "code",
   "execution_count": 53,
   "id": "43dc2e30",
   "metadata": {},
   "outputs": [],
   "source": [
    "import pandas as pd\n",
    "\n",
    "try:\n",
    "    # filename = 'test/all_submissions_1000.csv'\n",
    "    filename = 'all_submissions.csv'\n",
    "    df = pd.read_csv(filename)\n",
    "\n",
    "    first_ac_sid = df[df['ver'] == 90].groupby(['uid', 'pid'])['sid'].min().reset_index()\n",
    "    first_ac_sid.rename(columns={'sid': 'first_ac_sid'}, inplace=True)\n",
    "    df = df.merge(first_ac_sid, on=['uid', 'pid'], how='left')\n",
    "\n",
    "    attempt_df = df[\n",
    "        df['ver'].between(30, 90)\n",
    "        & ((df['first_ac_sid'].isna()) | (df['sid'] <= df['first_ac_sid']))\n",
    "    ]\n",
    "    prev_attempt_count = attempt_df.groupby(['uid', 'pid']).cumcount()\n",
    "    attempt_ac = attempt_df['ver'] == 90\n",
    "\n",
    "    attempt_df = attempt_df[['sid', 'uid', 'pid']]\n",
    "    attempt_df['prev_attempt_count'] = prev_attempt_count\n",
    "    attempt_df['ac'] = attempt_ac\n",
    "    attempt_df.to_csv('attempt_count.csv', index=False)\n",
    "\n",
    "except Exception as e:\n",
    "    print(e)"
   ]
  }
 ],
 "metadata": {
  "kernelspec": {
   "display_name": "Python 3",
   "language": "python",
   "name": "python3"
  },
  "language_info": {
   "codemirror_mode": {
    "name": "ipython",
    "version": 3
   },
   "file_extension": ".py",
   "mimetype": "text/x-python",
   "name": "python",
   "nbconvert_exporter": "python",
   "pygments_lexer": "ipython3",
   "version": "3.11.2"
  }
 },
 "nbformat": 4,
 "nbformat_minor": 5
}
